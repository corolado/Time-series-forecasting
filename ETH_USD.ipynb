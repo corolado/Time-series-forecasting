{
  "nbformat": 4,
  "nbformat_minor": 0,
  "metadata": {
    "colab": {
      "name": "ETH-USD.ipynb",
      "provenance": [],
      "collapsed_sections": []
    },
    "kernelspec": {
      "name": "python3",
      "display_name": "Python 3"
    }
  },
  "cells": [
    {
      "cell_type": "code",
      "metadata": {
        "id": "8JbD_j1W3dy2",
        "colab_type": "code",
        "outputId": "22bbcdf1-1971-478b-fb39-43d599d2cb94",
        "colab": {
          "base_uri": "https://localhost:8080/",
          "height": 124
        }
      },
      "source": [
        "# Run this cell to mount your Google Drive.\n",
        "from google.colab import drive\n",
        "drive.mount('/content/drive')"
      ],
      "execution_count": 0,
      "outputs": [
        {
          "output_type": "stream",
          "text": [
            "Go to this URL in a browser: https://accounts.google.com/o/oauth2/auth?client_id=947318989803-6bn6qk8qdgf4n4g3pfee6491hc0brc4i.apps.googleusercontent.com&redirect_uri=urn%3Aietf%3Awg%3Aoauth%3A2.0%3Aoob&scope=email%20https%3A%2F%2Fwww.googleapis.com%2Fauth%2Fdocs.test%20https%3A%2F%2Fwww.googleapis.com%2Fauth%2Fdrive%20https%3A%2F%2Fwww.googleapis.com%2Fauth%2Fdrive.photos.readonly%20https%3A%2F%2Fwww.googleapis.com%2Fauth%2Fpeopleapi.readonly&response_type=code\n",
            "\n",
            "Enter your authorization code:\n",
            "··········\n",
            "Mounted at /content/drive\n"
          ],
          "name": "stdout"
        }
      ]
    },
    {
      "cell_type": "code",
      "metadata": {
        "id": "lp8NqmKG32DV",
        "colab_type": "code",
        "outputId": "69ff5dfe-94eb-4d1d-aa35-90bb7da5e30e",
        "colab": {
          "base_uri": "https://localhost:8080/",
          "height": 206
        }
      },
      "source": [
        "import pandas as pd\n",
        "\n",
        "df = pd.read_csv('/content/drive/My Drive/ETH-USD.csv')\n",
        "df.head()"
      ],
      "execution_count": 0,
      "outputs": [
        {
          "output_type": "execute_result",
          "data": {
            "text/html": [
              "<div>\n",
              "<style scoped>\n",
              "    .dataframe tbody tr th:only-of-type {\n",
              "        vertical-align: middle;\n",
              "    }\n",
              "\n",
              "    .dataframe tbody tr th {\n",
              "        vertical-align: top;\n",
              "    }\n",
              "\n",
              "    .dataframe thead th {\n",
              "        text-align: right;\n",
              "    }\n",
              "</style>\n",
              "<table border=\"1\" class=\"dataframe\">\n",
              "  <thead>\n",
              "    <tr style=\"text-align: right;\">\n",
              "      <th></th>\n",
              "      <th>Date</th>\n",
              "      <th>Open</th>\n",
              "      <th>High</th>\n",
              "      <th>Low</th>\n",
              "      <th>Close</th>\n",
              "      <th>Adj Close</th>\n",
              "      <th>Volume</th>\n",
              "    </tr>\n",
              "  </thead>\n",
              "  <tbody>\n",
              "    <tr>\n",
              "      <th>0</th>\n",
              "      <td>2018-09-06</td>\n",
              "      <td>228.270004</td>\n",
              "      <td>232.779999</td>\n",
              "      <td>211.179993</td>\n",
              "      <td>229.520004</td>\n",
              "      <td>229.520004</td>\n",
              "      <td>273642406</td>\n",
              "    </tr>\n",
              "    <tr>\n",
              "      <th>1</th>\n",
              "      <td>2018-09-07</td>\n",
              "      <td>229.559998</td>\n",
              "      <td>234.149994</td>\n",
              "      <td>213.830002</td>\n",
              "      <td>215.139999</td>\n",
              "      <td>215.139999</td>\n",
              "      <td>157745814</td>\n",
              "    </tr>\n",
              "    <tr>\n",
              "      <th>2</th>\n",
              "      <td>2018-09-08</td>\n",
              "      <td>215.139999</td>\n",
              "      <td>220.020004</td>\n",
              "      <td>190.080002</td>\n",
              "      <td>196.770004</td>\n",
              "      <td>196.770004</td>\n",
              "      <td>177137749</td>\n",
              "    </tr>\n",
              "    <tr>\n",
              "      <th>3</th>\n",
              "      <td>2018-09-09</td>\n",
              "      <td>196.770004</td>\n",
              "      <td>208.380005</td>\n",
              "      <td>185.009995</td>\n",
              "      <td>195.990005</td>\n",
              "      <td>195.990005</td>\n",
              "      <td>158079940</td>\n",
              "    </tr>\n",
              "    <tr>\n",
              "      <th>4</th>\n",
              "      <td>2018-09-10</td>\n",
              "      <td>195.990005</td>\n",
              "      <td>202.589996</td>\n",
              "      <td>186.919998</td>\n",
              "      <td>197.139999</td>\n",
              "      <td>197.139999</td>\n",
              "      <td>142204330</td>\n",
              "    </tr>\n",
              "  </tbody>\n",
              "</table>\n",
              "</div>"
            ],
            "text/plain": [
              "         Date        Open        High  ...       Close   Adj Close     Volume\n",
              "0  2018-09-06  228.270004  232.779999  ...  229.520004  229.520004  273642406\n",
              "1  2018-09-07  229.559998  234.149994  ...  215.139999  215.139999  157745814\n",
              "2  2018-09-08  215.139999  220.020004  ...  196.770004  196.770004  177137749\n",
              "3  2018-09-09  196.770004  208.380005  ...  195.990005  195.990005  158079940\n",
              "4  2018-09-10  195.990005  202.589996  ...  197.139999  197.139999  142204330\n",
              "\n",
              "[5 rows x 7 columns]"
            ]
          },
          "metadata": {
            "tags": []
          },
          "execution_count": 3
        }
      ]
    },
    {
      "cell_type": "code",
      "metadata": {
        "id": "NbAQih134SEg",
        "colab_type": "code",
        "outputId": "f65662fd-a255-4d4c-e38f-8ac842bb9376",
        "colab": {
          "base_uri": "https://localhost:8080/",
          "height": 295
        }
      },
      "source": [
        "from matplotlib import pyplot as plt\n",
        "plt.figure()\n",
        "plt.plot(df[\"Close\"])\n",
        "plt.title('ETH-USD price history')\n",
        "plt.ylabel('Price (USD)')\n",
        "plt.xlabel('Days')\n",
        "plt.legend(['Close'], loc='upper left')\n",
        "plt.show()"
      ],
      "execution_count": 0,
      "outputs": [
        {
          "output_type": "display_data",
          "data": {
            "image/png": "[encoded data removed]",
            "text/plain": [
              "<Figure size 432x288 with 1 Axes>"
            ]
          },
          "metadata": {
            "tags": []
          }
        }
      ]
    },
    {
      "cell_type": "code",
      "metadata": {
        "id": "qf8Z7nAI5qRG",
        "colab_type": "code",
        "colab": {}
      },
      "source": [
        "print(\"checking if any null values are present\\n\", df.isna().sum())"
      ],
      "execution_count": 0,
      "outputs": []
    },
    {
      "cell_type": "code",
      "metadata": {
        "id": "m02u5gn-5XP8",
        "colab_type": "code",
        "outputId": "b6569e6d-db8f-4f82-88a0-1680f7e7c14e",
        "colab": {
          "base_uri": "https://localhost:8080/",
          "height": 295
        }
      },
      "source": [
        ""
      ],
      "execution_count": 0,
      "outputs": [
        {
          "output_type": "display_data",
          "data": {
            "image/png": "[encoded data removed]",
            "text/plain": [
              "<Figure size 432x288 with 1 Axes>"
            ]
          },
          "metadata": {
            "tags": []
          }
        }
      ]
    },
    {
      "cell_type": "code",
      "metadata": {
        "id": "LgmJiSEY-CWx",
        "colab_type": "code",
        "outputId": "8a136807-b76b-4fab-8607-cd9a21cbea93",
        "colab": {
          "base_uri": "https://localhost:8080/",
          "height": 34
        }
      },
      "source": [
        "import numpy as np\n",
        "train_col = [\"Close\"]\n",
        "x = df.loc[:, train_col].values\n",
        "X = np.array(x).flatten()\n",
        "print(len(X))"
      ],
      "execution_count": 0,
      "outputs": [
        {
          "output_type": "stream",
          "text": [
            "366\n"
          ],
          "name": "stdout"
        }
      ]
    },
    {
      "cell_type": "code",
      "metadata": {
        "id": "cOn_xWFe-msn",
        "colab_type": "code",
        "outputId": "263b5c6d-be2a-4e39-a2ee-c18a94a07d49",
        "colab": {
          "base_uri": "https://localhost:8080/",
          "height": 1000
        }
      },
      "source": [
        "# split a univariate sequence into samples\n",
        "def split_sequence(sequence, n_steps):\n",
        "\ta, b = list(), list()\n",
        "\tfor i in range(len(sequence)):\n",
        "\t\t# find the end of this pattern\n",
        "\t\tend_ix = i + n_steps\n",
        "\t\t# check if we are beyond the sequence\n",
        "\t\tif end_ix > len(sequence)-1:\n",
        "\t\t\tbreak\n",
        "\t\t# gather input and output parts of the pattern\n",
        "\t\tseq_x, seq_y = sequence[i:end_ix], sequence[end_ix]\n",
        "\t\ta.append(seq_x)\n",
        "\t\tb.append(seq_y)\n",
        "\treturn np.array(a), np.array(b)\n",
        " \n",
        "# define input sequence\n",
        "raw_seq =X\n",
        "# choose a number of time steps\n",
        "n_steps = 3\n",
        "# split into samples\n",
        "a, b = split_sequence(raw_seq, n_steps)\n",
        "# summarize the data\n",
        "for i in range(len(a)):\n",
        "\tprint(a[i], b[i])"
      ],
      "execution_count": 0,
      "outputs": [
        {
          "output_type": "stream",
          "text": [
            "[229.520004 215.139999 196.770004] 195.990005\n",
            "[215.139999 196.770004 195.990005] 197.139999\n",
            "[196.770004 195.990005 197.139999] 185.149994\n",
            "[195.990005 197.139999 185.149994] 183.029999\n",
            "[197.139999 185.149994 183.029999] 211.270004\n",
            "[185.149994 183.029999 211.270004] 208.869995\n",
            "[183.029999 211.270004 208.869995] 221.63000499999998\n",
            "[211.270004 208.869995 221.630005] 220.11999500000002\n",
            "[208.869995 221.630005 220.119995] 196.03999299999998\n",
            "[221.630005 220.119995 196.039993] 208.389999\n",
            "[220.119995 196.039993 208.389999] 209.77999900000003\n",
            "[196.039993 208.389999 209.779999] 224.75999500000003\n",
            "[208.389999 209.779999 224.759995] 247.690002\n",
            "[209.779999 224.759995 247.690002] 240.77999900000003\n",
            "[224.759995 247.690002 240.779999] 244.55000299999998\n",
            "[247.690002 240.779999 244.550003] 227.919998\n",
            "[240.779999 244.550003 227.919998] 219.19999700000002\n",
            "[244.550003 227.919998 219.199997] 214.210007\n",
            "[227.919998 219.199997 214.210007] 229.08999599999999\n",
            "[219.199997 214.210007 229.089996] 221.559998\n",
            "[214.210007 229.089996 221.559998] 231.32000699999998\n",
            "[229.089996 221.559998 231.320007] 232.600006\n",
            "[221.559998 231.320007 232.600006] 230.88999900000002\n",
            "[231.320007 232.600006 230.889999] 225.41000400000001\n",
            "[232.600006 230.889999 225.410004] 219.97000099999997\n",
            "[230.889999 225.410004 219.970001] 221.75999500000003\n",
            "[225.410004 219.970001 221.759995] 227.899994\n",
            "[219.970001 221.759995 227.899994] 224.61999500000002\n",
            "[221.759995 227.899994 224.619995] 225.649994\n",
            "[227.899994 224.619995 225.649994] 229.330002\n",
            "[224.619995 225.649994 229.330002] 227.49000499999997\n",
            "[225.649994 229.330002 227.490005] 225.25999500000003\n",
            "[229.330002 227.490005 225.259995] 189.830002\n",
            "[227.490005 225.259995 189.830002] 195.970001\n",
            "[225.259995 189.830002 195.970001] 199.449997\n",
            "[189.830002 195.970001 199.449997] 194.990005\n",
            "[195.970001 199.449997 194.990005] 210.80000299999998\n",
            "[199.449997 194.990005 210.800003] 210.22000099999997\n",
            "[194.990005 210.800003 210.220001] 207.600006\n",
            "[210.800003 210.220001 207.600006] 202.490005\n",
            "[210.220001 207.600006 202.490005] 202.860001\n",
            "[207.600006 202.490005 202.860001] 205.080002\n",
            "[202.490005 202.860001 205.080002] 204.770004\n",
            "[202.860001 205.080002 204.770004] 203.600006\n",
            "[205.080002 204.770004 203.600006] 203.699997\n",
            "[204.770004 203.600006 203.699997] 202.919998\n",
            "[203.600006 203.699997 202.919998] 201.229996\n",
            "[203.699997 202.919998 201.229996] 203.369995\n",
            "[202.919998 201.229996 203.369995] 202.78999299999998\n",
            "[201.229996 203.369995 202.789993] 203.720001\n",
            "[203.369995 202.789993 203.720001] 195.669998\n",
            "[202.789993 203.720001 195.669998] 196.190002\n",
            "[203.720001 195.669998 196.190002] 197.850006\n",
            "[195.669998 196.190002 197.850006] 198.729996\n",
            "[196.190002 197.850006 198.729996] 201.020004\n",
            "[197.850006 198.729996 201.020004] 199.470001\n",
            "[198.729996 201.020004 199.470001] 211.30000299999998\n",
            "[201.020004 199.470001 211.300003] 209.699997\n",
            "[199.470001 211.300003 209.699997] 219.559998\n",
            "[211.300003 209.699997 219.559998] 217.99000499999997\n",
            "[209.699997 219.559998 217.990005] 211.289993\n",
            "[219.559998 217.990005 211.289993] 209.389999\n",
            "[217.990005 211.289993 209.389999] 211.899994\n",
            "[211.289993 209.389999 211.899994] 211.69999700000002\n",
            "[209.389999 211.899994 211.699997] 210.809998\n",
            "[211.899994 211.699997 210.809998] 206.419998\n",
            "[211.699997 210.809998 206.419998] 182.720001\n",
            "[210.809998 206.419998 182.720001] 181.529999\n",
            "[206.419998 182.720001 181.529999] 174.83999599999999\n",
            "[182.720001 181.529999 174.839996] 174.220001\n",
            "[181.529999 174.839996 174.220001] 177.529999\n",
            "[174.839996 174.220001 177.529999] 148.220001\n",
            "[174.220001 177.529999 148.220001] 130.740005\n",
            "[177.529999 148.220001 130.740005] 136.5\n",
            "[148.220001 130.740005 136.5     ] 124.83000200000001\n",
            "[130.740005 136.5      124.830002] 123.370003\n",
            "[136.5      124.830002 123.370003] 112.75\n",
            "[124.830002 123.370003 112.75    ] 116.75\n",
            "[123.370003 112.75     116.75    ] 108.870003\n",
            "[112.75     116.75     108.870003] 110.190002\n",
            "[116.75     108.870003 110.190002] 122.879997\n",
            "[108.870003 110.190002 122.879997] 117.480003\n",
            "[110.190002 122.879997 117.480003] 112.870003\n",
            "[122.879997 117.480003 112.870003] 118.5\n",
            "[117.480003 112.870003 118.5     ] 115.959999\n",
            "[112.870003 118.5      115.959999] 108.230003\n",
            "[118.5      115.959999 108.230003] 109.82\n",
            "[115.959999 108.230003 109.82    ] 101.57\n",
            "[108.230003 109.82     101.57    ] 90.43\n",
            "[109.82 101.57  90.43] 93.610001\n",
            "[101.57      90.43      93.610001] 91.440002\n",
            "[90.43     93.610001 91.440002] 94.41999799999999\n",
            "[93.610001 91.440002 94.419998] 90.699997\n",
            "[91.440002 94.419998 90.699997] 88.050003\n",
            "[94.419998 90.699997 88.050003] 90.519997\n",
            "[90.699997 88.050003 90.519997] 86.389999\n",
            "[88.050003 90.519997 86.389999] 83.900002\n",
            "[90.519997 86.389999 83.900002] 84.269997\n",
            "[86.389999 83.900002 84.269997] 85.389999\n",
            "[83.900002 84.269997 85.389999] 95.440002\n",
            "[84.269997 85.389999 95.440002] 102.440002\n",
            "[ 85.389999  95.440002 102.440002] 100.629997\n",
            "[ 95.440002 102.440002 100.629997] 116.43\n",
            "[102.440002 100.629997 116.43    ] 109.440002\n",
            "[100.629997 116.43     109.440002] 118.360001\n",
            "[116.43     109.440002 118.360001] 131.559998\n",
            "[109.440002 118.360001 131.559998] 140.869995\n",
            "[118.360001 131.559998 140.869995] 130.990005\n",
            "[131.559998 140.869995 130.990005] 132.610001\n",
            "[140.869995 130.990005 132.610001] 116.720001\n",
            "[130.990005 132.610001 116.720001] 139.729996\n",
            "[132.610001 116.720001 139.729996] 137.300003\n",
            "[116.720001 139.729996 137.300003] 141.330002\n",
            "[139.729996 137.300003 141.330002] 133.490005\n",
            "[137.300003 141.330002 133.490005] 142.66000400000001\n",
            "[141.330002 133.490005 142.660004] 156.570007\n",
            "[133.490005 142.660004 156.570007] 149.440002\n",
            "[142.660004 156.570007 149.440002] 156.03999299999998\n",
            "[156.570007 149.440002 156.039993] 156.229996\n",
            "[149.440002 156.039993 156.229996] 158.610001\n",
            "[156.039993 156.229996 158.610001] 152.08999599999999\n",
            "[156.229996 158.610001 152.089996] 151.100006\n",
            "[158.610001 152.089996 151.100006] 151.169998\n",
            "[152.089996 151.100006 151.169998] 127.959999\n",
            "[151.100006 151.169998 127.959999] 127.160004\n",
            "[151.169998 127.959999 127.160004] 125.83000200000001\n",
            "[127.959999 127.160004 125.830002] 116.559998\n",
            "[127.160004 125.830002 116.559998] 129.740005\n",
            "[125.830002 116.559998 129.740005] 121.220001\n",
            "[116.559998 129.740005 121.220001] 123.120003\n",
            "[129.740005 121.220001 123.120003] 123.720001\n",
            "[121.220001 123.120003 123.720001] 120.57\n",
            "[123.120003 123.720001 120.57    ] 124.849998\n",
            "[123.720001 120.57     124.849998] 118.410004\n",
            "[120.57     124.849998 118.410004] 116.720001\n",
            "[124.849998 118.410004 116.720001] 119.120003\n",
            "[118.410004 116.720001 119.120003] 117.57\n",
            "[116.720001 119.120003 117.57    ] 117.699997\n",
            "[119.120003 117.57     117.699997] 115.91999799999999\n",
            "[117.57     117.699997 115.919998] 116.33000200000001\n",
            "[117.699997 115.919998 116.330002] 112.269997\n",
            "[115.919998 116.330002 112.269997] 106.360001\n",
            "[116.330002 112.269997 106.360001] 104.75\n",
            "[112.269997 106.360001 104.75    ] 109.040001\n",
            "[106.360001 104.75     109.040001] 106.889999\n",
            "[104.75     109.040001 106.889999] 107.029999\n",
            "[109.040001 106.889999 107.029999] 111.0\n",
            "[106.889999 107.029999 111.      ] 107.209999\n",
            "[107.029999 111.       107.209999] 106.900002\n",
            "[111.       107.209999 106.900002] 106.93\n",
            "[107.209999 106.900002 106.93    ] 104.5\n",
            "[106.900002 106.93     104.5     ] 104.300003\n",
            "[106.93     104.5      104.300003] 119.489998\n",
            "[104.5      104.300003 119.489998] 119.459999\n",
            "[104.300003 119.489998 119.459999] 125.58000200000001\n",
            "[119.489998 119.459999 125.580002] 120.760002\n",
            "[119.459999 125.580002 120.760002] 122.629997\n",
            "[125.580002 120.760002 122.629997] 122.309998\n",
            "[120.760002 122.629997 122.309998] 120.849998\n",
            "[122.629997 122.309998 120.849998] 122.019997\n",
            "[122.309998 120.849998 122.019997] 123.260002\n",
            "[120.849998 122.019997 123.260002] 134.279999\n",
            "[122.019997 123.260002 134.279999] 146.529999\n",
            "[123.260002 134.279999 146.529999] 144.399994\n",
            "[134.279999 146.529999 144.399994] 149.229996\n",
            "[146.529999 144.399994 149.229996] 146.360001\n",
            "[144.399994 149.229996 146.360001] 149.03999299999998\n",
            "[149.229996 146.360001 149.039993] 159.479996\n",
            "[146.360001 149.039993 159.479996] 133.419998\n",
            "[149.039993 159.479996 133.419998] 139.020004\n",
            "[159.479996 133.419998 139.020004] 137.119995\n",
            "[133.419998 139.020004 137.119995] 135.940002\n",
            "[139.020004 137.119995 135.940002] 136.28999299999998\n",
            "[137.119995 135.940002 136.289993] 136.149994\n",
            "[135.940002 136.289993 136.149994] 133.809998\n",
            "[136.289993 136.149994 133.809998] 131.21000700000002\n",
            "[136.149994 133.809998 131.210007] 126.43\n",
            "[133.809998 131.210007 126.43    ] 137.929993\n",
            "[131.210007 126.43     137.929993] 138.490005\n",
            "[126.43     137.929993 138.490005] 137.649994\n",
            "[137.929993 138.490005 137.649994] 134.419998\n",
            "[138.490005 137.649994 134.419998] 138.240005\n",
            "[137.649994 134.419998 138.240005] 136.360001\n",
            "[134.419998 138.240005 136.360001] 133.53999299999998\n",
            "[138.240005 136.360001 133.539993] 134.369995\n",
            "[136.360001 133.539993 134.369995] 132.929993\n",
            "[133.539993 134.369995 132.929993] 132.889999\n",
            "[134.369995 132.929993 132.889999] 137.630005\n",
            "[132.929993 132.889999 137.630005] 141.679993\n",
            "[132.889999 137.630005 141.679993] 139.740005\n",
            "[137.630005 141.679993 139.740005] 138.5\n",
            "[141.679993 139.740005 138.5     ] 139.46000700000002\n",
            "[139.740005 138.5      139.460007] 140.220001\n",
            "[138.5      139.460007 140.220001] 135.610001\n",
            "[139.460007 140.220001 135.610001] 136.759995\n",
            "[140.220001 135.610001 136.759995] 137.740005\n",
            "[135.610001 136.759995 137.740005] 136.21000700000002\n",
            "[136.759995 137.740005 136.210007] 133.96000700000002\n",
            "[137.740005 136.210007 133.960007] 134.28999299999998\n",
            "[136.210007 133.960007 134.289993] 140.229996\n",
            "[133.960007 134.289993 140.229996] 138.389999\n",
            "[134.289993 140.229996 138.389999] 144.41000400000001\n",
            "[140.229996 138.389999 144.410004] 143.28999299999998\n",
            "[138.389999 144.410004 143.289993] 142.399994\n",
            "[144.410004 143.289993 142.399994] 141.850006\n",
            "[143.289993 142.399994 141.850006] 164.929993\n",
            "[142.399994 141.850006 164.929993] 161.179993\n",
            "[141.850006 164.929993 161.179993] 158.070007\n",
            "[164.929993 161.179993 158.070007] 166.389999\n",
            "[161.179993 158.070007 166.389999] 166.279999\n",
            "[158.070007 166.389999 166.279999] 175.570007\n",
            "[166.389999 166.279999 175.570007] 181.059998\n",
            "[166.279999 175.570007 181.059998] 176.300003\n",
            "[175.570007 181.059998 176.300003] 177.389999\n",
            "[181.059998 176.300003 177.389999] 165.240005\n",
            "[176.300003 177.389999 165.240005] 164.559998\n",
            "[177.389999 165.240005 164.559998] 164.529999\n",
            "[165.240005 164.559998 164.529999] 168.679993\n",
            "[164.559998 164.529999 168.679993] 160.300003\n",
            "[164.529999 168.679993 160.300003] 166.899994\n",
            "[168.679993 160.300003 166.899994] 167.020004\n",
            "[160.300003 166.899994 167.020004] 174.600006\n",
            "[166.899994 167.020004 174.600006] 174.130005\n",
            "[167.020004 174.600006 174.130005] 173.96000700000002\n",
            "[174.600006 174.130005 173.960007] 170.300003\n",
            "[174.130005 173.960007 170.300003] 171.899994\n",
            "[173.960007 170.300003 171.899994] 170.66000400000001\n",
            "[170.300003 171.899994 170.660004] 166.050003\n",
            "[171.899994 170.660004 166.050003] 152.990005\n",
            "[170.660004 166.050003 152.990005] 156.449997\n",
            "[166.050003 152.990005 156.449997] 158.360001\n",
            "[152.990005 156.449997 158.360001] 158.050003\n",
            "[156.449997 158.360001 158.050003] 156.690002\n",
            "[158.360001 158.050003 156.690002] 164.389999\n",
            "[158.050003 156.690002 164.389999] 161.419998\n",
            "[156.690002 164.389999 161.419998] 161.28999299999998\n",
            "[164.389999 161.419998 161.289993] 168.240005\n",
            "[161.419998 161.289993 168.240005] 163.610001\n",
            "[161.289993 168.240005 163.610001] 163.940002\n",
            "[168.240005 163.610001 163.940002] 173.699997\n",
            "[163.610001 163.940002 173.699997] 168.58999599999999\n",
            "[163.940002 173.699997 168.589996] 171.419998\n",
            "[173.699997 168.589996 171.419998] 170.860001\n",
            "[168.589996 171.419998 170.860001] 172.5\n",
            "[171.419998 170.860001 172.5     ] 192.440002\n",
            "[170.860001 172.5      192.440002] 188.139999\n",
            "[172.5      192.440002 188.139999] 195.830002\n",
            "[192.440002 188.139999 195.830002] 217.16000400000001\n",
            "[188.139999 195.830002 217.160004] 248.63999900000002\n",
            "[195.830002 217.160004 248.639999] 264.47000099999997\n",
            "[217.160004 248.639999 264.470001] 244.83999599999999\n",
            "[248.639999 264.470001 244.839996] 233.960007\n",
            "[264.470001 244.839996 233.960007] 260.899994\n",
            "[244.839996 233.960007 260.899994] 252.100006\n",
            "[233.960007 260.899994 252.100006] 254.940002\n",
            "[260.899994 252.100006 254.940002] 243.460007\n",
            "[252.100006 254.940002 243.460007] 245.600006\n",
            "[254.940002 243.460007 245.600006] 249.61000099999998\n",
            "[243.460007 245.600006 249.610001] 251.49000499999997\n",
            "[245.600006 249.610001 251.490005] 268.26001\n",
            "[249.610001 251.490005 268.26001 ] 271.829987\n",
            "[251.490005 268.26001  271.829987] 271.450012\n",
            "[268.26001  271.829987 271.450012] 269.600006\n",
            "[271.829987 271.450012 269.600006] 254.44999700000002\n",
            "[271.450012 269.600006 254.449997] 267.420013\n",
            "[269.600006 254.449997 267.420013] 264.709991\n",
            "[254.449997 267.420013 264.709991] 269.309998\n",
            "[267.420013 264.709991 269.309998] 249.61000099999998\n",
            "[264.709991 269.309998 249.610001] 241.100006\n",
            "[269.309998 249.610001 241.100006] 246.16000400000001\n",
            "[249.610001 241.100006 246.160004] 249.42999300000002\n",
            "[241.100006 246.160004 249.429993] 249.539993\n",
            "[246.160004 249.429993 249.539993] 244.399994\n",
            "[249.429993 249.539993 244.399994] 231.42999300000002\n",
            "[249.539993 244.399994 231.429993] 247.960007\n",
            "[244.399994 231.429993 247.960007] 245.16000400000001\n",
            "[231.429993 247.960007 245.160004] 263.049988\n",
            "[247.960007 245.160004 263.049988] 255.08999599999999\n",
            "[245.160004 263.049988 255.089996] 263.76001\n",
            "[263.049988 255.089996 263.76001 ] 269.22000099999997\n",
            "[255.089996 263.76001  269.220001] 268.52999900000003\n",
            "[263.76001  269.220001 268.529999] 273.920013\n",
            "[269.220001 268.529999 273.920013] 264.51001\n",
            "[268.529999 273.920013 264.51001 ] 269.01001\n",
            "[273.920013 264.51001  269.01001 ] 272.209991\n",
            "[264.51001  269.01001  272.209991] 296.02999900000003\n",
            "[269.01001  272.209991 296.029999] 309.410004\n",
            "[272.209991 296.029999 309.410004] 307.369995\n",
            "[296.029999 309.410004 307.369995] 311.22000099999997\n",
            "[309.410004 307.369995 311.220001] 316.52999900000003\n",
            "[307.369995 311.220001 316.529999] 333.76001\n",
            "[311.220001 316.529999 333.76001 ] 294.070007\n",
            "[316.529999 333.76001  294.070007] 309.369995\n",
            "[333.76001  294.070007 309.369995] 317.320007\n",
            "[294.070007 309.369995 317.320007] 290.149994\n",
            "[309.369995 317.320007 290.149994] 294.170013\n",
            "[317.320007 290.149994 294.170013] 291.609985\n",
            "[290.149994 294.170013 291.609985] 302.170013\n",
            "[294.170013 291.609985 302.170013] 283.100006\n",
            "[291.609985 302.170013 283.100006] 287.899994\n",
            "[302.170013 283.100006 287.899994] 287.980011\n",
            "[283.100006 287.899994 287.980011] 306.429993\n",
            "[287.899994 287.980011 306.429993] 313.339996\n",
            "[287.980011 306.429993 313.339996] 307.890015\n",
            "[306.429993 313.339996 307.890015] 288.640015\n",
            "[313.339996 307.890015 288.640015] 268.559998\n",
            "[307.890015 288.640015 268.559998] 275.410004\n",
            "[288.640015 268.559998 275.410004] 268.940002\n",
            "[268.559998 275.410004 268.940002] 226.16000400000001\n",
            "[275.410004 268.940002 226.160004] 228.13999900000002\n",
            "[268.940002 226.160004 228.139999] 198.71000700000002\n",
            "[226.160004 228.139999 198.710007] 211.289993\n",
            "[228.139999 198.710007 211.289993] 226.08999599999999\n",
            "[198.710007 211.289993 226.089996] 221.27999900000003\n",
            "[211.289993 226.089996 221.279999] 228.710007\n",
            "[226.089996 221.279999 228.710007] 225.399994\n",
            "[221.279999 228.710007 225.399994] 217.22000099999997\n",
            "[228.710007 225.399994 217.220001] 212.210007\n",
            "[225.399994 217.220001 212.210007] 216.66000400000001\n",
            "[217.220001 212.210007 216.660004] 219.41000400000001\n",
            "[212.210007 216.660004 219.410004] 219.229996\n",
            "[216.660004 219.410004 219.229996] 207.169998\n",
            "[219.410004 219.229996 207.169998] 211.149994\n",
            "[219.229996 207.169998 211.149994] 210.830002\n",
            "[207.169998 211.149994 210.830002] 209.82000699999998\n",
            "[211.149994 210.830002 209.820007] 218.69999700000002\n",
            "[210.830002 209.820007 218.699997] 217.50999500000003\n",
            "[209.820007 218.699997 217.509995] 217.69999700000002\n",
            "[218.699997 217.509995 217.699997] 222.020004\n",
            "[217.509995 217.699997 222.020004] 222.69999700000002\n",
            "[217.699997 222.020004 222.699997] 233.190002\n",
            "[222.020004 222.699997 233.190002] 225.940002\n",
            "[222.699997 233.190002 225.940002] 225.99000499999997\n",
            "[233.190002 225.940002 225.990005] 221.17999300000002\n",
            "[225.940002 225.990005 221.179993] 210.47000099999997\n",
            "[225.990005 221.179993 210.470001] 206.259995\n",
            "[221.179993 210.470001 206.259995] 216.38999900000002\n",
            "[210.470001 206.259995 216.389999] 211.27999900000003\n",
            "[206.259995 216.389999 211.279999] 208.619995\n",
            "[216.389999 211.279999 208.619995] 186.490005\n",
            "[211.279999 208.619995 186.490005] 188.240005\n",
            "[208.619995 186.490005 188.240005] 185.41000400000001\n",
            "[186.490005 188.240005 185.410004] 185.690002\n",
            "[188.240005 185.410004 185.690002] 194.770004\n",
            "[185.410004 185.690002 194.770004] 202.429993\n",
            "[185.690002 194.770004 202.429993] 196.550003\n",
            "[194.770004 202.429993 196.550003] 187.320007\n",
            "[202.429993 196.550003 187.320007] 190.740005\n",
            "[196.550003 187.320007 190.740005] 194.639999\n",
            "[187.320007 190.740005 194.639999] 191.080002\n",
            "[190.740005 194.639999 191.080002] 186.580002\n",
            "[194.639999 191.080002 186.580002] 188.46000700000002\n",
            "[191.080002 186.580002 188.460007] 187.169998\n",
            "[186.580002 188.460007 187.169998] 173.009995\n",
            "[188.460007 187.169998 173.009995] 168.949997\n",
            "[187.169998 173.009995 168.949997] 168.520004\n",
            "[173.009995 168.949997 168.520004] 172.149994\n",
            "[168.949997 168.520004 172.149994] 171.419998\n",
            "[168.520004 172.149994 171.419998] 178.759995\n",
            "[172.149994 171.419998 178.759995] 179.130005\n",
            "[171.419998 178.759995 179.130005] 175.009995\n",
            "[178.759995 179.130005 175.009995] 174.889999\n",
            "[179.130005 175.009995 174.889999] 175.369995\n"
          ],
          "name": "stdout"
        }
      ]
    },
    {
      "cell_type": "code",
      "metadata": {
        "id": "A2O5I18oB5K8",
        "colab_type": "code",
        "outputId": "8726d389-56d5-4670-97e0-f1fe16e2f0a9",
        "colab": {
          "base_uri": "https://localhost:8080/",
          "height": 451
        }
      },
      "source": [
        "a = a.reshape((a.shape[0], a.shape[1], 1))\n",
        "print(a)"
      ],
      "execution_count": 0,
      "outputs": [
        {
          "output_type": "stream",
          "text": [
            "[[[229.520004]\n",
            "  [215.139999]\n",
            "  [196.770004]]\n",
            "\n",
            " [[215.139999]\n",
            "  [196.770004]\n",
            "  [195.990005]]\n",
            "\n",
            " [[196.770004]\n",
            "  [195.990005]\n",
            "  [197.139999]]\n",
            "\n",
            " ...\n",
            "\n",
            " [[171.419998]\n",
            "  [178.759995]\n",
            "  [179.130005]]\n",
            "\n",
            " [[178.759995]\n",
            "  [179.130005]\n",
            "  [175.009995]]\n",
            "\n",
            " [[179.130005]\n",
            "  [175.009995]\n",
            "  [174.889999]]]\n"
          ],
          "name": "stdout"
        }
      ]
    },
    {
      "cell_type": "code",
      "metadata": {
        "id": "wqrR3i4DBUDN",
        "colab_type": "code",
        "outputId": "367ea47e-c8ff-4760-82ac-56a3c05c71c2",
        "colab": {
          "base_uri": "https://localhost:8080/",
          "height": 350
        }
      },
      "source": [
        "from keras.models import Sequential\n",
        "from keras.layers import Dense, LSTM\n",
        "# define model\n",
        "model = Sequential()\n",
        "model.add(LSTM(50, activation='relu', input_shape=(3, 1)))\n",
        "model.add(Dense(1))\n",
        "model.compile(optimizer='adam', loss='mse')\n",
        "model.fit(a, b, epochs=200, verbose=0)"
      ],
      "execution_count": 0,
      "outputs": [
        {
          "output_type": "stream",
          "text": [
            "Using TensorFlow backend.\n",
            "WARNING: Logging before flag parsing goes to stderr.\n",
            "W0906 13:09:22.464646 140713309116288 deprecation_wrapper.py:119] From /usr/local/lib/python3.6/dist-packages/keras/backend/tensorflow_backend.py:66: The name tf.get_default_graph is deprecated. Please use tf.compat.v1.get_default_graph instead.\n",
            "\n",
            "W0906 13:09:22.501625 140713309116288 deprecation_wrapper.py:119] From /usr/local/lib/python3.6/dist-packages/keras/backend/tensorflow_backend.py:541: The name tf.placeholder is deprecated. Please use tf.compat.v1.placeholder instead.\n",
            "\n",
            "W0906 13:09:22.508267 140713309116288 deprecation_wrapper.py:119] From /usr/local/lib/python3.6/dist-packages/keras/backend/tensorflow_backend.py:4432: The name tf.random_uniform is deprecated. Please use tf.random.uniform instead.\n",
            "\n",
            "W0906 13:09:22.847682 140713309116288 deprecation_wrapper.py:119] From /usr/local/lib/python3.6/dist-packages/keras/optimizers.py:793: The name tf.train.Optimizer is deprecated. Please use tf.compat.v1.train.Optimizer instead.\n",
            "\n",
            "W0906 13:09:23.065248 140713309116288 deprecation.py:323] From /usr/local/lib/python3.6/dist-packages/tensorflow/python/ops/math_grad.py:1250: add_dispatch_support.<locals>.wrapper (from tensorflow.python.ops.array_ops) is deprecated and will be removed in a future version.\n",
            "Instructions for updating:\n",
            "Use tf.where in 2.0, which has the same broadcast rule as np.where\n",
            "W0906 13:09:23.492967 140713309116288 deprecation_wrapper.py:119] From /usr/local/lib/python3.6/dist-packages/keras/backend/tensorflow_backend.py:1033: The name tf.assign_add is deprecated. Please use tf.compat.v1.assign_add instead.\n",
            "\n",
            "W0906 13:09:23.565442 140713309116288 deprecation_wrapper.py:119] From /usr/local/lib/python3.6/dist-packages/keras/backend/tensorflow_backend.py:1020: The name tf.assign is deprecated. Please use tf.compat.v1.assign instead.\n",
            "\n"
          ],
          "name": "stderr"
        },
        {
          "output_type": "execute_result",
          "data": {
            "text/plain": [
              "<keras.callbacks.History at 0x7ffa21d9edd8>"
            ]
          },
          "metadata": {
            "tags": []
          },
          "execution_count": 10
        }
      ]
    },
    {
      "cell_type": "code",
      "metadata": {
        "id": "PAgSkvOe2GUb",
        "colab_type": "code",
        "colab": {}
      },
      "source": [
        "model.save_weights(\"model.h5\")"
      ],
      "execution_count": 0,
      "outputs": []
    },
    {
      "cell_type": "code",
      "metadata": {
        "id": "UgWebaHOKCW4",
        "colab_type": "code",
        "outputId": "dd548e64-e832-4a53-f8f7-c452a4f19798",
        "colab": {
          "base_uri": "https://localhost:8080/",
          "height": 312
        }
      },
      "source": [
        "\n",
        "tomo = np.array([175.01,174.38,176.81])\n",
        "t = tomo.reshape((1, 3, 1))\n",
        "prro = model.predict(t, verbose=0)\n",
        "pre = model.predict(a, verbose=0)\n",
        "print(prro)\n",
        "plt.figure()\n",
        "plt.plot(df[\"Close\"])\n",
        "plt.plot(pre)\n",
        "plt.plot(prro)\n",
        "plt.title('ETH-USD price history')\n",
        "plt.ylabel('Price (USD)')\n",
        "plt.xlabel('Days')\n",
        "plt.legend(['price','Pre', 't'], loc='upper left')\n",
        "plt.show()\n"
      ],
      "execution_count": 0,
      "outputs": [
        {
          "output_type": "stream",
          "text": [
            "[[174.0706]]\n"
          ],
          "name": "stdout"
        },
        {
          "output_type": "display_data",
          "data": {
            "image/png": "[encoded data removed]",
            "text/plain": [
              "<Figure size 432x288 with 1 Axes>"
            ]
          },
          "metadata": {
            "tags": []
          }
        }
      ]
    }
  ]
}